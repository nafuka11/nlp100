{
 "cells": [
  {
   "cell_type": "markdown",
   "metadata": {
    "collapsed": true
   },
   "source": [
    "# 第2章: UNIXコマンドの基礎\n",
    "hightemp.txtは，日本の最高気温の記録を「都道府県」「地点」「℃」「日」のタブ区切り形式で格納したファイルである．以下の処理を行うプログラムを作成し，hightemp.txtを入力ファイルとして実行せよ．さらに，同様の処理をUNIXコマンドでも実行し，プログラムの実行結果を確認せよ．"
   ]
  },
  {
   "cell_type": "markdown",
   "metadata": {},
   "source": [
    "## 10. 行数のカウント\n",
    "行数をカウントせよ．確認にはwcコマンドを用いよ．"
   ]
  },
  {
   "cell_type": "code",
   "execution_count": 1,
   "metadata": {
    "code_folding": []
   },
   "outputs": [
    {
     "name": "stdout",
     "output_type": "stream",
     "text": [
      "Python: 24\n",
      "Unix Command: 24\r\n"
     ]
    }
   ],
   "source": [
    "INPUT_FILE_PATH = \"./input/hightemp.txt\"\n",
    "\n",
    "with open(INPUT_FILE_PATH, \"r\") as f:\n",
    "    LINE_COUNT = len(f.readlines())\n",
    "    print(f\"Python: {LINE_COUNT}\")\n",
    "\n",
    "# wcコマンド実行結果の行頭にスペースが含まれていたため、trで削除\n",
    "!echo \"Unix Command: `wc -l < $INPUT_FILE_PATH | tr -d ' '`\""
   ]
  },
  {
   "cell_type": "markdown",
   "metadata": {},
   "source": [
    "## 11. タブをスペースに置換\n",
    "タブ1文字につきスペース1文字に置換せよ．確認にはsedコマンド，trコマンド，もしくはexpandコマンドを用いよ．"
   ]
  },
  {
   "cell_type": "code",
   "execution_count": 2,
   "metadata": {},
   "outputs": [
    {
     "name": "stdout",
     "output_type": "stream",
     "text": [
      "Python:\n",
      "高知県 江川崎 41 2013-08-12\n",
      "埼玉県 熊谷 40.9 2007-08-16\n",
      "岐阜県 多治見 40.9 2007-08-16\n",
      "山形県 山形 40.8 1933-07-25\n",
      "山梨県 甲府 40.7 2013-08-10\n",
      "和歌山県 かつらぎ 40.6 1994-08-08\n",
      "静岡県 天竜 40.6 1994-08-04\n",
      "山梨県 勝沼 40.5 2013-08-10\n",
      "埼玉県 越谷 40.4 2007-08-16\n",
      "群馬県 館林 40.3 2007-08-16\n",
      "群馬県 上里見 40.3 1998-07-04\n",
      "愛知県 愛西 40.3 1994-08-05\n",
      "千葉県 牛久 40.2 2004-07-20\n",
      "静岡県 佐久間 40.2 2001-07-24\n",
      "愛媛県 宇和島 40.2 1927-07-22\n",
      "山形県 酒田 40.1 1978-08-03\n",
      "岐阜県 美濃 40 2007-08-16\n",
      "群馬県 前橋 40 2001-07-24\n",
      "千葉県 茂原 39.9 2013-08-11\n",
      "埼玉県 鳩山 39.9 1997-07-05\n",
      "大阪府 豊中 39.9 1994-08-08\n",
      "山梨県 大月 39.9 1990-07-19\n",
      "山形県 鶴岡 39.9 1978-08-03\n",
      "愛知県 名古屋 39.9 1942-08-02\n",
      "\n",
      "Unix Command:\n",
      "高知県 江川崎 41 2013-08-12\n",
      "埼玉県 熊谷 40.9 2007-08-16\n",
      "岐阜県 多治見 40.9 2007-08-16\n",
      "山形県 山形 40.8 1933-07-25\n",
      "山梨県 甲府 40.7 2013-08-10\n",
      "和歌山県 かつらぎ 40.6 1994-08-08\n",
      "静岡県 天竜 40.6 1994-08-04\n",
      "山梨県 勝沼 40.5 2013-08-10\n",
      "埼玉県 越谷 40.4 2007-08-16\n",
      "群馬県 館林 40.3 2007-08-16\n",
      "群馬県 上里見 40.3 1998-07-04\n",
      "愛知県 愛西 40.3 1994-08-05\n",
      "千葉県 牛久 40.2 2004-07-20\n",
      "静岡県 佐久間 40.2 2001-07-24\n",
      "愛媛県 宇和島 40.2 1927-07-22\n",
      "山形県 酒田 40.1 1978-08-03\n",
      "岐阜県 美濃 40 2007-08-16\n",
      "群馬県 前橋 40 2001-07-24\n",
      "千葉県 茂原 39.9 2013-08-11\n",
      "埼玉県 鳩山 39.9 1997-07-05\n",
      "大阪府 豊中 39.9 1994-08-08\n",
      "山梨県 大月 39.9 1990-07-19\n",
      "山形県 鶴岡 39.9 1978-08-03\n",
      "愛知県 名古屋 39.9 1942-08-02\n"
     ]
    }
   ],
   "source": [
    "with open(INPUT_FILE_PATH, \"r\") as f:\n",
    "    replaced_text = (line.replace(\"\\t\", \" \") for line in f)\n",
    "    print(\"Python:\")\n",
    "    print(\"\".join(replaced_text))\n",
    "\n",
    "!echo \"Unix Command:\"\n",
    "!expand -t 1 $INPUT_FILE_PATH"
   ]
  },
  {
   "cell_type": "markdown",
   "metadata": {},
   "source": [
    "## 12. 1列目をcol1.txtに，2列目をcol2.txtに保存\n",
    "各行の1列目だけを抜き出したものをcol1.txtに，2列目だけを抜き出したものをcol2.txtとしてファイルに保存せよ．確認にはcutコマンドを用いよ．"
   ]
  },
  {
   "cell_type": "code",
   "execution_count": 3,
   "metadata": {},
   "outputs": [
    {
     "name": "stdout",
     "output_type": "stream",
     "text": [
      "Unix Command:\n",
      "*** col1.txt ***\n",
      "高知県\n",
      "埼玉県\n",
      "岐阜県\n",
      "山形県\n",
      "山梨県\n",
      "和歌山県\n",
      "静岡県\n",
      "山梨県\n",
      "埼玉県\n",
      "群馬県\n",
      "群馬県\n",
      "愛知県\n",
      "千葉県\n",
      "静岡県\n",
      "愛媛県\n",
      "山形県\n",
      "岐阜県\n",
      "群馬県\n",
      "千葉県\n",
      "埼玉県\n",
      "大阪府\n",
      "山梨県\n",
      "山形県\n",
      "愛知県\n",
      "*** col2.txt ***\n",
      "江川崎\n",
      "熊谷\n",
      "多治見\n",
      "山形\n",
      "甲府\n",
      "かつらぎ\n",
      "天竜\n",
      "勝沼\n",
      "越谷\n",
      "館林\n",
      "上里見\n",
      "愛西\n",
      "牛久\n",
      "佐久間\n",
      "宇和島\n",
      "酒田\n",
      "美濃\n",
      "前橋\n",
      "茂原\n",
      "鳩山\n",
      "豊中\n",
      "大月\n",
      "鶴岡\n",
      "名古屋\n"
     ]
    }
   ],
   "source": [
    "import os\n",
    "\n",
    "OUTPUT_DIR_PATH = \"./output\"\n",
    "col1_path = os.path.join(OUTPUT_DIR_PATH, \"col1.txt\")\n",
    "col2_path = os.path.join(OUTPUT_DIR_PATH, \"col2.txt\")\n",
    "\n",
    "with open(INPUT_FILE_PATH, \"r\") as f:\n",
    "    input_lines = f.readlines()\n",
    "    with open(col1_path, \"w\") as col1, open(col2_path, \"w\") as col2:\n",
    "        col1.writelines([line.split(\"\\t\")[0] + os.linesep \n",
    "                         for line in input_lines])\n",
    "        col2.writelines([line.split(\"\\t\")[1] + os.linesep\n",
    "                         for line in input_lines])\n",
    "\n",
    "!echo \"Unix Command:\"\n",
    "!echo \"*** col1.txt ***\"\n",
    "!cut -f 1 $INPUT_FILE_PATH\n",
    "!echo \"*** col2.txt ***\"\n",
    "!cut -f 2 $INPUT_FILE_PATH"
   ]
  },
  {
   "cell_type": "markdown",
   "metadata": {},
   "source": [
    "## 13. col1.txtとcol2.txtをマージ\n",
    "12で作ったcol1.txtとcol2.txtを結合し，元のファイルの1列目と2列目をタブ区切りで並べたテキストファイルを作成せよ．確認にはpasteコマンドを用いよ．"
   ]
  },
  {
   "cell_type": "code",
   "execution_count": 4,
   "metadata": {},
   "outputs": [
    {
     "name": "stdout",
     "output_type": "stream",
     "text": [
      "Unix Command:\n",
      "高知県\t江川崎\n",
      "埼玉県\t熊谷\n",
      "岐阜県\t多治見\n",
      "山形県\t山形\n",
      "山梨県\t甲府\n",
      "和歌山県\tかつらぎ\n",
      "静岡県\t天竜\n",
      "山梨県\t勝沼\n",
      "埼玉県\t越谷\n",
      "群馬県\t館林\n",
      "群馬県\t上里見\n",
      "愛知県\t愛西\n",
      "千葉県\t牛久\n",
      "静岡県\t佐久間\n",
      "愛媛県\t宇和島\n",
      "山形県\t酒田\n",
      "岐阜県\t美濃\n",
      "群馬県\t前橋\n",
      "千葉県\t茂原\n",
      "埼玉県\t鳩山\n",
      "大阪府\t豊中\n",
      "山梨県\t大月\n",
      "山形県\t鶴岡\n",
      "愛知県\t名古屋\n"
     ]
    }
   ],
   "source": [
    "with open(col1_path, \"r\") as col1_f, open(col2_path, \"r\") as col2_f:\n",
    "    merge_file_path = os.path.join(OUTPUT_DIR_PATH, \"merge_cols.txt\")\n",
    "    merge_lines = [col1.rstrip(os.linesep) + \"\\t\" + col2\n",
    "                   for col1, col2\n",
    "                   in zip(col1_f.readlines(), col2_f.readlines())]\n",
    "    \n",
    "    with open(merge_file_path, \"w\") as merge_f:\n",
    "        merge_f.writelines(merge_lines)\n",
    "\n",
    "!echo \"Unix Command:\"\n",
    "!paste $col1_path $col2_path"
   ]
  },
  {
   "cell_type": "markdown",
   "metadata": {},
   "source": [
    "## 14. 先頭からN行を出力\n",
    "自然数Nをコマンドライン引数などの手段で受け取り，入力のうち先頭のN行だけを表示せよ．確認にはheadコマンドを用いよ．"
   ]
  },
  {
   "cell_type": "code",
   "execution_count": 15,
   "metadata": {},
   "outputs": [
    {
     "name": "stdout",
     "output_type": "stream",
     "text": [
      "自然数Nを入力してください: ２\n"
     ]
    }
   ],
   "source": [
    "def input_int(prompt=None, minimum=None):\n",
    "    \"\"\"標準入力から数値を取得する\n",
    "\n",
    "    Args:\n",
    "        prompt: 標準出力表示文字列\n",
    "        minimum: 最小値\n",
    "\n",
    "    Returns:\n",
    "        入力値 (int)\n",
    "\n",
    "    \"\"\"\n",
    "    try:\n",
    "        n = int(input(prompt))\n",
    "        if min and n < minimum:\n",
    "            print(f\"{minimum}以上の数値を入力してください\")\n",
    "        return n\n",
    "    except ValueError:\n",
    "        print(\"数値を入力してください\")\n",
    "\n",
    "        \n",
    "def head_file(file_path, line_count):\n",
    "    \"\"\"ファイルの先頭から指定行数分を表示する\n",
    "\n",
    "    Args:\n",
    "        file_path (str): ファイルパス\n",
    "        line_count (int): 取得行数\n",
    "\n",
    "    Returns:\n",
    "        None\n",
    "\n",
    "    \"\"\"\n",
    "    with open(file_path, \"r\") as f:\n",
    "        print(\"\".join(f.readlines()[:line_count]))\n",
    "\n",
    "\n",
    "n = input_int(\"自然数Nを入力してください: \", minimum=1)"
   ]
  },
  {
   "cell_type": "code",
   "execution_count": 16,
   "metadata": {},
   "outputs": [
    {
     "name": "stdout",
     "output_type": "stream",
     "text": [
      "Python:\n",
      "高知県\t江川崎\t41\t2013-08-12\n",
      "埼玉県\t熊谷\t40.9\t2007-08-16\n",
      "\n",
      "Unix Command:\n",
      "高知県\t江川崎\t41\t2013-08-12\n",
      "埼玉県\t熊谷\t40.9\t2007-08-16\n"
     ]
    }
   ],
   "source": [
    "print(\"Python:\")\n",
    "head_file(INPUT_FILE_PATH, n)\n",
    "\n",
    "!echo \"Unix Command:\"\n",
    "!head -$n $INPUT_FILE_PATH"
   ]
  },
  {
   "cell_type": "markdown",
   "metadata": {},
   "source": [
    "## 15. 末尾のN行を出力\n",
    "自然数Nをコマンドライン引数などの手段で受け取り，入力のうち末尾のN行だけを表示せよ．確認にはtailコマンドを用いよ．"
   ]
  },
  {
   "cell_type": "code",
   "execution_count": 7,
   "metadata": {},
   "outputs": [
    {
     "name": "stdout",
     "output_type": "stream",
     "text": [
      "自然数Nを入力してください: 2\n"
     ]
    }
   ],
   "source": [
    "def tail_file(file_path, line_count):\n",
    "    \"\"\"ファイルの先頭から指定行数分を取得する\n",
    "\n",
    "    Args:\n",
    "        file_path (str): ファイルパス\n",
    "        line_count (int): 取得行数\n",
    "\n",
    "    Returns:\n",
    "        None\n",
    "\n",
    "    \"\"\"\n",
    "    with open(file_path, \"r\") as f:\n",
    "        print(\"\".join(f.readlines()[-line_count:]))\n",
    "\n",
    "\n",
    "n = input_int(\"自然数Nを入力してください: \", minimum=1)"
   ]
  },
  {
   "cell_type": "code",
   "execution_count": 8,
   "metadata": {},
   "outputs": [
    {
     "name": "stdout",
     "output_type": "stream",
     "text": [
      "Python:\n",
      "山形県\t鶴岡\t39.9\t1978-08-03\n",
      "愛知県\t名古屋\t39.9\t1942-08-02\n",
      "\n",
      "Unix Command:\n",
      "山形県\t鶴岡\t39.9\t1978-08-03\n",
      "愛知県\t名古屋\t39.9\t1942-08-02\n"
     ]
    }
   ],
   "source": [
    "print(\"Python:\")\n",
    "tail_file(INPUT_FILE_PATH, n)\n",
    "\n",
    "!echo \"Unix Command:\"\n",
    "!tail -$n $INPUT_FILE_PATH"
   ]
  },
  {
   "cell_type": "markdown",
   "metadata": {},
   "source": [
    "## 16. ファイルをN分割する\n",
    "自然数Nをコマンドライン引数などの手段で受け取り，入力のファイルを行単位でN分割せよ．同様の処理をsplitコマンドで実現せよ．"
   ]
  },
  {
   "cell_type": "code",
   "execution_count": 9,
   "metadata": {},
   "outputs": [
    {
     "name": "stdout",
     "output_type": "stream",
     "text": [
      "自然数Nを入力してください: 1\n"
     ]
    }
   ],
   "source": [
    "def split_file(file_path, n):\n",
    "    \"\"\"ファイルをN分割する\n",
    "\n",
    "    Args:\n",
    "        file_path (str): ファイルパス\n",
    "        n (int): ファイル分割数\n",
    "\n",
    "    Returns:\n",
    "        N分割したファイル (list[list[str]])\n",
    "\n",
    "    \"\"\"\n",
    "    with open(file_path, \"r\") as f:\n",
    "        lines = f.read().split(os.linesep)\n",
    "        line_num, line_mod = divmod(len(lines), n)\n",
    "        return [lines[i * line_num:(i + 1) * line_num]\n",
    "                if n - i > line_mod else\n",
    "                lines[i * line_num:(i + 1) * line_num + 1] for i in range(n)]\n",
    "\n",
    "\n",
    "n = input_int(\"自然数Nを入力してください: \", minimum=1)"
   ]
  },
  {
   "cell_type": "code",
   "execution_count": 10,
   "metadata": {},
   "outputs": [
    {
     "name": "stdout",
     "output_type": "stream",
     "text": [
      "*** file: 1 ***\n",
      "高知県\t江川崎\t41\t2013-08-12\n",
      "埼玉県\t熊谷\t40.9\t2007-08-16\n",
      "岐阜県\t多治見\t40.9\t2007-08-16\n",
      "山形県\t山形\t40.8\t1933-07-25\n",
      "山梨県\t甲府\t40.7\t2013-08-10\n",
      "和歌山県\tかつらぎ\t40.6\t1994-08-08\n",
      "静岡県\t天竜\t40.6\t1994-08-04\n",
      "山梨県\t勝沼\t40.5\t2013-08-10\n",
      "埼玉県\t越谷\t40.4\t2007-08-16\n",
      "群馬県\t館林\t40.3\t2007-08-16\n",
      "群馬県\t上里見\t40.3\t1998-07-04\n",
      "愛知県\t愛西\t40.3\t1994-08-05\n",
      "千葉県\t牛久\t40.2\t2004-07-20\n",
      "静岡県\t佐久間\t40.2\t2001-07-24\n",
      "愛媛県\t宇和島\t40.2\t1927-07-22\n",
      "山形県\t酒田\t40.1\t1978-08-03\n",
      "岐阜県\t美濃\t40\t2007-08-16\n",
      "群馬県\t前橋\t40\t2001-07-24\n",
      "千葉県\t茂原\t39.9\t2013-08-11\n",
      "埼玉県\t鳩山\t39.9\t1997-07-05\n",
      "大阪府\t豊中\t39.9\t1994-08-08\n",
      "山梨県\t大月\t39.9\t1990-07-19\n",
      "山形県\t鶴岡\t39.9\t1978-08-03\n",
      "愛知県\t名古屋\t39.9\t1942-08-02\n",
      "\n",
      "Unix Command:\n",
      "*** .//output/splitted_hightemp_aa *** \n",
      "高知県\t江川崎\t41\t2013-08-12\n",
      "埼玉県\t熊谷\t40.9\t2007-08-16\n",
      "岐阜県\t多治見\t40.9\t2007-08-16\n",
      "山形県\t山形\t40.8\t1933-07-25\n",
      "山梨県\t甲府\t40.7\t2013-08-10\n",
      "和歌山県\tかつらぎ\t40.6\t1994-08-08\n",
      "静岡県\t天竜\t40.6\t1994-08-04\n",
      "山梨県\t勝沼\t40.5\t2013-08-10\n",
      "埼玉県\t越谷\t40.4\t2007-08-16\n",
      "群馬県\t館林\t40.3\t2007-08-16\n",
      "群馬県\t上里見\t40.3\t1998-07-04\n",
      "愛知県\t愛西\t40.3\t1994-08-05\n",
      "千葉県\t牛久\t40.2\t2004-07-20\n",
      "静岡県\t佐久間\t40.2\t2001-07-24\n",
      "愛媛県\t宇和島\t40.2\t1927-07-22\n",
      "山形県\t酒田\t40.1\t1978-08-03\n",
      "岐阜県\t美濃\t40\t2007-08-16\n",
      "群馬県\t前橋\t40\t2001-07-24\n",
      "千葉県\t茂原\t39.9\t2013-08-11\n",
      "埼玉県\t鳩山\t39.9\t1997-07-05\n",
      "大阪府\t豊中\t39.9\t1994-08-08\n",
      "山梨県\t大月\t39.9\t1990-07-19\n",
      "山形県\t鶴岡\t39.9\t1978-08-03\n",
      "愛知県\t名古屋\t39.9\t1942-08-02\n"
     ]
    }
   ],
   "source": [
    "splitted = split_file(INPUT_FILE_PATH, n)\n",
    "for i, f in enumerate(splitted):\n",
    "    print(f\"*** file: {i + 1} ***\")\n",
    "    print(os.linesep.join(f))\n",
    "\n",
    "# UnixコマンドではN分割により余りが発生すると、期待通りのファイル数となりません。ご了承ください。\n",
    "!echo \"Unix Command:\"\n",
    "!rm $OUTPUT_DIR_PATH/splitted_hightemp*\n",
    "!split -l `expr $LINE_COUNT / $n` $INPUT_FILE_PATH $OUTPUT_DIR_PATH/splitted_hightemp_\n",
    "!find ./$OUTPUT_DIR_PATH -name splitted* | sort | xargs -I{} sh -c 'echo \"*** {} *** \\n`cat {}`\"'"
   ]
  },
  {
   "cell_type": "markdown",
   "metadata": {},
   "source": [
    "## 17. １列目の文字列の異なり\n",
    "1列目の文字列の種類（異なる文字列の集合）を求めよ．確認にはsort, uniqコマンドを用いよ．"
   ]
  },
  {
   "cell_type": "code",
   "execution_count": 11,
   "metadata": {},
   "outputs": [
    {
     "name": "stdout",
     "output_type": "stream",
     "text": [
      "Python:\n",
      "{'高知県', '岐阜県', '静岡県', '埼玉県', '山梨県', '和歌山県', '群馬県', '愛知県', '愛媛県', '大阪府', '千葉県', '山形県'}\n",
      "Unix Command:\n",
      "愛媛県\n",
      "愛知県\n",
      "大阪府\n",
      "千葉県\n",
      "静岡県\n",
      "山形県\n",
      "山梨県\n",
      "和歌山県\n",
      "岐阜県\n",
      "群馬県\n",
      "高知県\n",
      "埼玉県\n"
     ]
    }
   ],
   "source": [
    "with open(INPUT_FILE_PATH, \"r\") as f:\n",
    "    col1_types = set([line.split()[0] for line in f])\n",
    "    print(\"Python:\")\n",
    "    print(col1_types)\n",
    "\n",
    "!echo \"Unix Command:\"\n",
    "!cut -f 1 $INPUT_FILE_PATH | sort | uniq"
   ]
  },
  {
   "cell_type": "markdown",
   "metadata": {},
   "source": [
    "## 18. 各行を3コラム目の数値の降順にソート\n",
    "各行を3コラム目の数値の逆順で整列せよ（注意: 各行の内容は変更せずに並び替えよ）．確認にはsortコマンドを用いよ（この問題はコマンドで実行した時の結果と合わなくてもよい）．"
   ]
  },
  {
   "cell_type": "code",
   "execution_count": 12,
   "metadata": {},
   "outputs": [
    {
     "name": "stdout",
     "output_type": "stream",
     "text": [
      "Python:\n",
      "高知県\t江川崎\t41\t2013-08-12\n",
      "埼玉県\t熊谷\t40.9\t2007-08-16\n",
      "岐阜県\t多治見\t40.9\t2007-08-16\n",
      "山形県\t山形\t40.8\t1933-07-25\n",
      "山梨県\t甲府\t40.7\t2013-08-10\n",
      "和歌山県\tかつらぎ\t40.6\t1994-08-08\n",
      "静岡県\t天竜\t40.6\t1994-08-04\n",
      "山梨県\t勝沼\t40.5\t2013-08-10\n",
      "埼玉県\t越谷\t40.4\t2007-08-16\n",
      "群馬県\t館林\t40.3\t2007-08-16\n",
      "群馬県\t上里見\t40.3\t1998-07-04\n",
      "愛知県\t愛西\t40.3\t1994-08-05\n",
      "千葉県\t牛久\t40.2\t2004-07-20\n",
      "静岡県\t佐久間\t40.2\t2001-07-24\n",
      "愛媛県\t宇和島\t40.2\t1927-07-22\n",
      "山形県\t酒田\t40.1\t1978-08-03\n",
      "岐阜県\t美濃\t40\t2007-08-16\n",
      "群馬県\t前橋\t40\t2001-07-24\n",
      "千葉県\t茂原\t39.9\t2013-08-11\n",
      "埼玉県\t鳩山\t39.9\t1997-07-05\n",
      "大阪府\t豊中\t39.9\t1994-08-08\n",
      "山梨県\t大月\t39.9\t1990-07-19\n",
      "山形県\t鶴岡\t39.9\t1978-08-03\n",
      "愛知県\t名古屋\t39.9\t1942-08-02\n",
      "\n",
      "Unix Command:\n",
      "高知県\t江川崎\t41\t2013-08-12\n",
      "岐阜県\t多治見\t40.9\t2007-08-16\n",
      "埼玉県\t熊谷\t40.9\t2007-08-16\n",
      "山形県\t山形\t40.8\t1933-07-25\n",
      "山梨県\t甲府\t40.7\t2013-08-10\n",
      "静岡県\t天竜\t40.6\t1994-08-04\n",
      "和歌山県\tかつらぎ\t40.6\t1994-08-08\n",
      "山梨県\t勝沼\t40.5\t2013-08-10\n",
      "埼玉県\t越谷\t40.4\t2007-08-16\n",
      "群馬県\t館林\t40.3\t2007-08-16\n",
      "群馬県\t上里見\t40.3\t1998-07-04\n",
      "愛知県\t愛西\t40.3\t1994-08-05\n",
      "静岡県\t佐久間\t40.2\t2001-07-24\n",
      "愛媛県\t宇和島\t40.2\t1927-07-22\n",
      "千葉県\t牛久\t40.2\t2004-07-20\n",
      "山形県\t酒田\t40.1\t1978-08-03\n",
      "群馬県\t前橋\t40\t2001-07-24\n",
      "岐阜県\t美濃\t40\t2007-08-16\n",
      "愛知県\t名古屋\t39.9\t1942-08-02\n",
      "山梨県\t大月\t39.9\t1990-07-19\n",
      "山形県\t鶴岡\t39.9\t1978-08-03\n",
      "大阪府\t豊中\t39.9\t1994-08-08\n",
      "埼玉県\t鳩山\t39.9\t1997-07-05\n",
      "千葉県\t茂原\t39.9\t2013-08-11\n"
     ]
    }
   ],
   "source": [
    "from operator import itemgetter\n",
    "\n",
    "with open(INPUT_FILE_PATH, \"r\") as f:\n",
    "    sorted_lines = sorted(f, key=lambda x: x.split()[2], reverse=True)\n",
    "    print(\"Python:\")\n",
    "    print(\"\".join(sorted_lines))\n",
    "\n",
    "!echo \"Unix Command:\"\n",
    "!sort -k 3 -n -r $INPUT_FILE_PATH"
   ]
  },
  {
   "cell_type": "markdown",
   "metadata": {},
   "source": [
    "## 19. 各行の1コラム目の文字列の出現頻度を求め，出現頻度の高い順に並べる\n",
    "各行の1列目の文字列の出現頻度を求め，その高い順に並べて表示せよ．確認にはcut, uniq, sortコマンドを用いよ．"
   ]
  },
  {
   "cell_type": "code",
   "execution_count": 13,
   "metadata": {},
   "outputs": [
    {
     "name": "stdout",
     "output_type": "stream",
     "text": [
      "Python:\n",
      "[('埼玉県', 3), ('山形県', 3), ('山梨県', 3), ('群馬県', 3), ('岐阜県', 2), ('静岡県', 2), ('愛知県', 2), ('千葉県', 2), ('高知県', 1), ('和歌山県', 1), ('愛媛県', 1), ('大阪府', 1)]\n",
      "Unix Command:\n",
      "   3 群馬県\n",
      "   3 山梨県\n",
      "   3 山形県\n",
      "   3 埼玉県\n",
      "   2 静岡県\n",
      "   2 愛知県\n",
      "   2 岐阜県\n",
      "   2 千葉県\n",
      "   1 高知県\n",
      "   1 愛媛県\n",
      "   1 大阪府\n",
      "   1 和歌山県\n"
     ]
    }
   ],
   "source": [
    "with open(INPUT_FILE_PATH, \"r\") as f:\n",
    "    col1_freq = {}\n",
    "    for line in f:\n",
    "        key = line.split()[0]\n",
    "        if key in col1_freq:\n",
    "            col1_freq[key] += 1\n",
    "        else:\n",
    "            col1_freq[key] = 1\n",
    "    print(\"Python:\")\n",
    "    print(sorted(col1_freq.items(), key=itemgetter(1), reverse=True))\n",
    "\n",
    "!echo \"Unix Command:\"\n",
    "!cut -f 1 $INPUT_FILE_PATH | sort | uniq -c | sort -n -r"
   ]
  }
 ],
 "metadata": {
  "kernelspec": {
   "display_name": "Python 3",
   "language": "python",
   "name": "python3"
  },
  "language_info": {
   "codemirror_mode": {
    "name": "ipython",
    "version": 3
   },
   "file_extension": ".py",
   "mimetype": "text/x-python",
   "name": "python",
   "nbconvert_exporter": "python",
   "pygments_lexer": "ipython3",
   "version": "3.7.1"
  }
 },
 "nbformat": 4,
 "nbformat_minor": 1
}
